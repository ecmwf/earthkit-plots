{
 "cells": [
  {
   "cell_type": "code",
   "execution_count": 1,
   "id": "a4a7ee26",
   "metadata": {},
   "outputs": [],
   "source": [
    "import earthkit.data\n",
    "import earthkit.plots"
   ]
  },
  {
   "cell_type": "code",
   "execution_count": 2,
   "id": "5d63cee8",
   "metadata": {},
   "outputs": [
    {
     "data": {
      "text/html": [
       "<div>\n",
       "<style scoped>\n",
       "    .dataframe tbody tr th:only-of-type {\n",
       "        vertical-align: middle;\n",
       "    }\n",
       "\n",
       "    .dataframe tbody tr th {\n",
       "        vertical-align: top;\n",
       "    }\n",
       "\n",
       "    .dataframe thead th {\n",
       "        text-align: right;\n",
       "    }\n",
       "</style>\n",
       "<table border=\"1\" class=\"dataframe\">\n",
       "  <thead>\n",
       "    <tr style=\"text-align: right;\">\n",
       "      <th></th>\n",
       "      <th>variable</th>\n",
       "      <th>level</th>\n",
       "      <th>valid_datetime</th>\n",
       "      <th>units</th>\n",
       "    </tr>\n",
       "  </thead>\n",
       "  <tbody>\n",
       "    <tr>\n",
       "      <th>0</th>\n",
       "      <td>dis06</td>\n",
       "      <td>None</td>\n",
       "      <td>2022-10-08 18:00:00</td>\n",
       "      <td>m**3 s**-1</td>\n",
       "    </tr>\n",
       "    <tr>\n",
       "      <th>1</th>\n",
       "      <td>land_binary_mask</td>\n",
       "      <td>None</td>\n",
       "      <td>2022-10-08 18:00:00</td>\n",
       "      <td>1</td>\n",
       "    </tr>\n",
       "    <tr>\n",
       "      <th>2</th>\n",
       "      <td>upArea</td>\n",
       "      <td>None</td>\n",
       "      <td>2022-10-08 18:00:00</td>\n",
       "      <td>M2</td>\n",
       "    </tr>\n",
       "  </tbody>\n",
       "</table>\n",
       "</div>"
      ],
      "text/plain": [
       "           variable level      valid_datetime       units\n",
       "0             dis06  None 2022-10-08 18:00:00  m**3 s**-1\n",
       "1  land_binary_mask  None 2022-10-08 18:00:00           1\n",
       "2            upArea  None 2022-10-08 18:00:00          M2"
      ]
     },
     "execution_count": 2,
     "metadata": {},
     "output_type": "execute_result"
    }
   ],
   "source": [
    "earthkit.data.download_example_file(\"efas.nc\")\n",
    "data = earthkit.data.from_source(\"file\", \"efas.nc\")\n",
    "data.ls()"
   ]
  },
  {
   "cell_type": "code",
   "execution_count": 3,
   "id": "61b6f565",
   "metadata": {},
   "outputs": [
    {
     "data": {
      "image/png": "[encoded data removed]",
      "text/plain": [
       "<Figure size 700x700 with 1 Axes>"
      ]
     },
     "metadata": {},
     "output_type": "display_data"
    }
   ],
   "source": [
    "chart = earthkit.plots.Map()\n",
    "\n",
    "chart.block(data[0])\n",
    "\n",
    "chart.show()"
   ]
  },
  {
   "cell_type": "code",
   "execution_count": 4,
   "id": "9d9990c9",
   "metadata": {},
   "outputs": [
    {
     "data": {
      "text/plain": [
       "(2500000.0, 7500000.0, 750000.0, 5500000.0)"
      ]
     },
     "execution_count": 4,
     "metadata": {},
     "output_type": "execute_result"
    }
   ],
   "source": [
    "chart.ax.get_extent()"
   ]
  },
  {
   "cell_type": "code",
   "execution_count": null,
   "id": "eaece168-6e24-488b-81ef-908b362126f8",
   "metadata": {},
   "outputs": [],
   "source": []
  }
 ],
 "metadata": {
  "kernelspec": {
   "display_name": "DEVELOP",
   "language": "python",
   "name": "develop"
  },
  "language_info": {
   "codemirror_mode": {
    "name": "ipython",
    "version": 3
   },
   "file_extension": ".py",
   "mimetype": "text/x-python",
   "name": "python",
   "nbconvert_exporter": "python",
   "pygments_lexer": "ipython3",
   "version": "3.10.6"
  }
 },
 "nbformat": 4,
 "nbformat_minor": 5
}
