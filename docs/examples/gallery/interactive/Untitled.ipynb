{
 "cells": [
  {
   "cell_type": "code",
   "execution_count": null,
   "id": "c102779b-e870-4d94-bc7b-563e00590c69",
   "metadata": {},
   "outputs": [],
   "source": []
  }
 ],
 "metadata": {
  "kernelspec": {
   "display_name": "",
   "name": ""
  },
  "language_info": {
   "name": ""
  }
 },
 "nbformat": 4,
 "nbformat_minor": 5
}
