{
 "cells": [
  {
   "cell_type": "markdown",
   "id": "9b21855f-4e63-43bd-9949-3aac915521f3",
   "metadata": {},
   "source": [
    "## Gallery"
   ]
  },
  {
   "cell_type": "markdown",
   "id": "9e8fe687",
   "metadata": {},
   "source": [
    "### Domains and projections"
   ]
  },
  {
   "cell_type": "markdown",
   "id": "563b8f9b-c0a0-41d6-8b64-83c44419545f",
   "metadata": {
    "tags": [
     "nbsphinx-gallery"
    ]
   },
   "source": [
    "* [Built-in named domains](domains/builtin-domains.ipynb)\n",
    "* [Using a cartopy CRS](domains/cartopy-crs.ipynb)\n",
    "* [Custom domains](domains/custom-domain.ipynb)\n",
    "* [Combining domains](domains/domain-union.ipynb)"
   ]
  },
  {
   "cell_type": "markdown",
   "id": "946567de",
   "metadata": {},
   "source": [
    "### Gridded data"
   ]
  },
  {
   "cell_type": "markdown",
   "id": "b2ccd626",
   "metadata": {
    "tags": [
     "nbsphinx-gallery"
    ]
   },
   "source": [
    "* [Lambert Azimuthal Equal Area](gridded-data/efas.ipynb)\n",
    "* [El Niño](gridded-data/el-nino.ipynb)\n",
    "* [Hatched shading](gridded-data/hatched-shading.ipynb)\n",
    "* [Model orography](gridded-data/model-orography.ipynb)\n",
    "* [Temperature and pressure](gridded-data/temperature-and-pressure.ipynb)\n",
    "* [Time zones](gridded-data/time-zones.ipynb)\n",
    "* [Weather forecast steps](gridded-data/weather-forecast-steps.ipynb)"
   ]
  },
  {
   "cell_type": "markdown",
   "id": "794b88f0",
   "metadata": {},
   "source": [
    "### Grid types"
   ]
  },
  {
   "cell_type": "markdown",
   "id": "923ac9bd",
   "metadata": {
    "tags": [
     "nbsphinx-gallery"
    ]
   },
   "source": [
    "* [HEALPix pixels](grid-types/healpix-pixels.ipynb)\n",
    "* [HEALPix interpolated](grid-types/healpix-interpolated.ipynb)\n",
    "* [HEALPix point cloud](grid-types/healpix-point-cloud.ipynb)\n",
    "* [Reduced Gaussian grid point cloud](grid-types/reduced-gg-point-cloud.ipynb)\n",
    "* [Reduced Gaussian interpolated](grid-types/reduced-gg-interpolated.ipynb)"
   ]
  },
  {
   "cell_type": "markdown",
   "id": "40381013",
   "metadata": {},
   "source": [
    "### Point data"
   ]
  },
  {
   "cell_type": "markdown",
   "id": "98cf8f59",
   "metadata": {
    "tags": [
     "nbsphinx-gallery"
    ]
   },
   "source": [
    "* [USA temperature observations](point-data/usa-temperature-obs.ipynb)"
   ]
  },
  {
   "cell_type": "markdown",
   "id": "c8b3a8d8",
   "metadata": {},
   "source": [
    "### Ancillary data"
   ]
  },
  {
   "cell_type": "markdown",
   "id": "b07e3173",
   "metadata": {
    "tags": [
     "nbsphinx-gallery"
    ]
   },
   "source": [
    "* [Blue marble JPEG](ancillary/blue-marble.ipynb)\n",
    "* [Cities in Japan](ancillary/japan-cities.ipynb)\n",
    "* [Shapefiles](ancillary/shapefiles.ipynb)"
   ]
  }
 ],
 "metadata": {
  "kernelspec": {
   "display_name": "DEVELOP",
   "language": "python",
   "name": "develop"
  },
  "language_info": {
   "codemirror_mode": {
    "name": "ipython",
    "version": 3
   },
   "file_extension": ".py",
   "mimetype": "text/x-python",
   "name": "python",
   "nbconvert_exporter": "python",
   "pygments_lexer": "ipython3",
   "version": "3.10.6"
  }
 },
 "nbformat": 4,
 "nbformat_minor": 5
}
