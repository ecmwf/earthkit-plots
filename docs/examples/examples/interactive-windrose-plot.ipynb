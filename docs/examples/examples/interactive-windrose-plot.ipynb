{
 "cells": [
  {
   "cell_type": "markdown",
   "metadata": {},
   "source": [
    "# Windrose plots\n",
    "This example demonstrates **polar wind visualisations** with earthkit-plots: a **frequency windrose**, a **special windrose** with density blobs, and a stylised **multi-panel hourly windrose** with runway overlays for Kloten Airport."
   ]
  },
  {
   "cell_type": "markdown",
   "metadata": {},
   "source": [
    "## Data source and setup\n",
    "We query the **ECMWF IFS model** via the Open-Meteo API for **10-m wind speed and direction** at Kloten.  \n",
    "Requests are cached and retried for robustness. Optionally, wind speed can be requested in knots by setting `wind_speed_unit=\"kn\"`."
   ]
  },
  {
   "cell_type": "code",
   "execution_count": null,
   "metadata": {},
   "outputs": [],
   "source": [
    "import requests_cache\n",
    "from retry_requests import retry\n",
    "\n",
    "import openmeteo_requests\n",
    "from openmeteo_sdk.Variable import Variable\n",
    "\n",
    "cache_session = requests_cache.CachedSession('.cache', expire_after=3600)\n",
    "retry_session = retry(cache_session, retries=5, backoff_factor=0.2)\n",
    "openmeteo = openmeteo_requests.Client(session=retry_session)\n",
    "\n",
    "url = \"https://ensemble-api.open-meteo.com/v1/ensemble\"\n",
    "params = {\n",
    "    \"latitude\": 47.4583,\n",
    "    \"longitude\": 8.5480,\n",
    "    \"hourly\": [\"wind_direction_10m\", \"wind_speed_10m\"],\n",
    "    \"models\": \"ecmwf_ifs025\",\n",
    "    \"forecast_days\": 1,\n",
    "    # \"wind_speed_unit\": \"kn\"\n",
    "}\n",
    "\n",
    "responses = openmeteo.weather_api(url, params=params, verify=False)\n",
    "response = responses[0]\n",
    "\n",
    "# Print coordinates for verification\n",
    "print(f\"Coordinates: {response.Latitude():.2f}°N {response.Longitude():.2f}°E\")\n",
    "print(f\"Elevation: {response.Elevation()} m asl\")"
   ]
  },
  {
   "cell_type": "markdown",
   "metadata": {},
   "source": [
    "## Parsing the API response\n",
    "The hourly fields for all ensemble members are unpacked into a tidy `pandas.DataFrame`:\n",
    "\n",
    "- `date`: common hourly time axis (UTC).  \n",
    "- `wind_direction_10m_member`: direction per member (degrees).  \n",
    "- `wind_speed_10m_member`: speed per member (m/s by default).\n",
    "\n",
    "This structure makes it straightforward to select time slices and pass arrays to plotting functions."
   ]
  },
  {
   "cell_type": "code",
   "execution_count": null,
   "metadata": {},
   "outputs": [],
   "source": [
    "import pandas as pd\n",
    "import numpy as np\n",
    "\n",
    "hourly = response.Hourly()\n",
    "hourly_variables = list(map(lambda i: hourly.Variables(i), range(0, hourly.VariablesLength())))\n",
    "hourly_wind_direction_10m = filter(lambda x: x.Variable() == Variable.wind_direction and x.Altitude() == 10, hourly_variables)\n",
    "hourly_wind_speed_10m = filter(lambda x: x.Variable() == Variable.wind_speed and x.Altitude() == 10, hourly_variables)\n",
    "\n",
    "hourly_data = {\"date\": pd.date_range(\n",
    "    start=pd.to_datetime(hourly.Time(), unit=\"s\", utc=True),\n",
    "    end=pd.to_datetime(hourly.TimeEnd(), unit=\"s\", utc=True),\n",
    "    freq=pd.Timedelta(seconds=hourly.Interval()),\n",
    "    inclusive=\"left\"\n",
    ")}\n",
    "\n",
    "for variable in hourly_wind_direction_10m:\n",
    "    member = variable.EnsembleMember()\n",
    "    hourly_data[f\"wind_direction_10m_member{member}\"] = variable.ValuesAsNumpy()\n",
    "for variable in hourly_wind_speed_10m:\n",
    "    member = variable.EnsembleMember()\n",
    "    hourly_data[f\"wind_speed_10m_member{member}\"] = variable.ValuesAsNumpy()\n",
    "\n",
    "hourly_dataframe = pd.DataFrame(data=hourly_data)\n",
    "\n",
    "hourly_dataframe.head()"
   ]
  },
  {
   "cell_type": "markdown",
   "metadata": {},
   "source": [
    "For our windrose plot, we only need the forecast for a single point in time. We'll select the data for the first hour and convert it into two NumPy arrays: one for wind speed and one for wind direction."
   ]
  },
  {
   "cell_type": "code",
   "execution_count": null,
   "metadata": {},
   "outputs": [],
   "source": [
    "first_hour_data = hourly_dataframe.iloc[14]\n",
    "wind_speed_api = first_hour_data.filter(like='wind_speed_10m').to_numpy()\n",
    "wind_direction_api = first_hour_data.filter(like='wind_direction_10m').to_numpy()\n",
    "\n",
    "print(f\"Data prepared for plotting with {wind_speed_api.shape[0]} ensemble members.\")"
   ]
  },
  {
   "cell_type": "markdown",
   "metadata": {},
   "source": [
    "## Frequency Windrose\n",
    "\n",
    "The **frequency windrose** bins speeds into user-defined **radial bins** and divides direction into **angular sectors**.  \n",
    "\n",
    "Bars show how often wind falls into each (speed, direction) bin; stacks reveal the speed distribution per direction."
   ]
  },
  {
   "cell_type": "code",
   "execution_count": null,
   "metadata": {},
   "outputs": [],
   "source": [
    "from earthkit.plots.interactive import Chart, polar\n",
    "\n",
    "chart = Chart()\n",
    "\n",
    "# Define the speed bins you want to see\n",
    "speed_bins = [0, 5, 10, 15, 20, 25]\n",
    "\n",
    "chart.polar_frequency(\n",
    "    r=wind_speed_api,\n",
    "    theta=wind_direction_api,\n",
    "    radial_bins=speed_bins,\n",
    "    n_angular_sectors=16\n",
    ")\n",
    "\n",
    "chart.title(\"Polar Frequency of Wind Speed and Direction\")\n",
    "\n",
    "chart.fig.update_layout(polar_barmode='stack')\n",
    "chart.show(renderer=\"png\")"
   ]
  },
  {
   "cell_type": "markdown",
   "metadata": {},
   "source": [
    "## Special Windrose\n",
    "\n",
    "The **special windrose** overlays **kernel-density \"blobs\"** (von Mises–based) and optional ensemble points to visualise the spread and density.\n"
   ]
  },
  {
   "cell_type": "code",
   "execution_count": null,
   "metadata": {},
   "outputs": [],
   "source": [
    "chart = Chart()\n",
    "\n",
    "chart.polar(\n",
    "    r=wind_speed_api.astype(np.float64),\n",
    "    theta=wind_direction_api.astype(np.float64),\n",
    "    show_ensemble_points=True,\n",
    "    show_density_blobs=True,\n",
    "    density_method=\"hybrid_vonmises\",\n",
    ")\n",
    "\n",
    "chart.title(\"Wind Speed and Direction\")\n",
    "\n",
    "chart.show(renderer=\"png\")"
   ]
  },
  {
   "cell_type": "markdown",
   "metadata": {},
   "source": [
    "## Hourly windrose sequence with runways\n",
    "\n",
    "We build a **6-panel** hourly sequence (UTC) to show short-term evolution.  \n",
    "Each subplot includes:\n",
    "- **Density blobs** from the ensemble,  \n",
    "- An operational **limit circle**,  \n",
    "- **Runway bearings** for Kloten (10/28, 14/32, 16/34), drawn as radial lines.  \n",
    "\n",
    "This layout supports quick operational assessment of wind relative to runway orientations."
   ]
  },
  {
   "cell_type": "code",
   "execution_count": null,
   "metadata": {},
   "outputs": [],
   "source": [
    "import plotly.graph_objects as go\n",
    "\n",
    "# Special elements\n",
    "default_klo_runways = [\n",
    "    {'angle1': 98, 'angle2': 278, 'name': 'KLO 10/28'},\n",
    "    {'angle1': 137, 'angle2': 317, 'name': 'KLO 14/32'},\n",
    "    {'angle1': 155, 'angle2': 335, 'name': 'KLO 16/34'}\n",
    "]\n",
    "runway_style = {\"line\": {\"color\": \"rgba(128, 128, 128, 0.7)\", \"width\": 6}}\n",
    "blob_colors = [\n",
    "    'rgba(54, 57, 102, 0.8)',\n",
    "    'rgba(125, 77, 119, 0.8)',\n",
    "    'rgba(255, 178, 109, 0.6)'\n",
    "]\n",
    "\n",
    "# Create the Chart object and main plotting loop\n",
    "chart = Chart(rows=1, columns=6, specs=[[{\"type\": \"polar\"}] * 6])\n",
    "subplot_titles = [t.strftime('%H:%M (UTC)') for t in hourly_dataframe[\"date\"].iloc[14:20]]\n",
    "chart._subplot_titles = subplot_titles\n",
    "\n",
    "for i in range(6):\n",
    "    row = hourly_dataframe.iloc[i+14]\n",
    "    wind_speed = row.filter(like='wind_speed_10m').to_numpy()\n",
    "    wind_direction = row.filter(like='wind_direction_10m').to_numpy()\n",
    "\n",
    "    # Add windrose density blobs\n",
    "    traces = polar.windrose(\n",
    "        r=wind_speed.astype(np.float64),\n",
    "        theta=wind_direction.astype(np.float64),\n",
    "        colors=blob_colors,\n",
    "        show_ensemble_points=False,\n",
    "        show_density_blobs=True,\n",
    "        density_method=\"hybrid_vonmises\",\n",
    "    )\n",
    "    for trace_list in traces:\n",
    "        for trace in trace_list:\n",
    "            chart.add_trace(trace, row=1, col=i + 1)\n",
    "\n",
    "    # Add limit circle\n",
    "    chart.add_trace(go.Scatterpolar(\n",
    "        r=[10] * 361, theta=np.arange(0, 361, 1), mode='lines',\n",
    "        line=dict(color='red', width=2), showlegend=False\n",
    "    ), row=1, col=i + 1)\n",
    "\n",
    "    # Add runway traces\n",
    "    for runway in default_klo_runways:\n",
    "        chart.add_trace(go.Scatterpolar(\n",
    "            r=[0, 8], theta=[runway['angle1'], runway['angle1']], mode='lines',\n",
    "            showlegend=False, **runway_style\n",
    "        ), row=1, col=i + 1)\n",
    "        chart.add_trace(go.Scatterpolar(\n",
    "            r=[0, 8], theta=[runway['angle2'], runway['angle2']], mode='lines',\n",
    "            showlegend=False, **runway_style\n",
    "        ), row=1, col=i + 1)"
   ]
  },
  {
   "cell_type": "markdown",
   "metadata": {},
   "source": [
    "A custom **dark layout** is applied to every subplot (grid, ticks, ranges, background)."
   ]
  },
  {
   "cell_type": "code",
   "execution_count": null,
   "metadata": {},
   "outputs": [],
   "source": [
    "import copy\n",
    "from earthkit.plots.interactive.charts import DEFAULT_LAYOUT\n",
    "\n",
    "# Custom dark layout\n",
    "custom_polar_settings = copy.deepcopy(DEFAULT_LAYOUT['polar'])\n",
    "\n",
    "custom_polar_settings['bgcolor'] = '#333333'\n",
    "custom_polar_settings['angularaxis']['gridcolor'] = '#888888'\n",
    "custom_polar_settings['angularaxis']['linecolor'] = 'white'\n",
    "custom_polar_settings['angularaxis']['tickfont'] = {'color': 'white', 'size': 12}\n",
    "custom_polar_settings['radialaxis']['gridcolor'] = '#888888'\n",
    "custom_polar_settings['radialaxis']['linecolor'] = 'white'\n",
    "custom_polar_settings['radialaxis']['tickfont'] = {'color': 'white', 'size': 10}\n",
    "custom_polar_settings['radialaxis']['range'] = [0, 16]\n",
    "custom_polar_settings['radialaxis']['angle'] = 45\n",
    "\n",
    "# Apply to every subplot\n",
    "for i in range(1, 7):\n",
    "    polar_key = f\"polar{i if i > 1 else ''}\"\n",
    "    chart.fig.update_layout({polar_key: custom_polar_settings})\n",
    "\n",
    "# Update overall figure\n",
    "chart._layout_override = {\n",
    "    'paper_bgcolor': '#333333',\n",
    "    'font_color': 'white',\n",
    "    'height': 400,\n",
    "    'margin': dict(b=20, t=80)\n",
    "}"
   ]
  },
  {
   "cell_type": "code",
   "execution_count": null,
   "metadata": {},
   "outputs": [],
   "source": [
    "chart.show(renderer=\"png\", width=2000, height=400)"
   ]
  }
 ],
 "metadata": {
  "kernelspec": {
   "display_name": ".venv",
   "language": "python",
   "name": "python3"
  },
  "language_info": {
   "codemirror_mode": {
    "name": "ipython",
    "version": 3
   },
   "file_extension": ".py",
   "mimetype": "text/x-python",
   "name": "python",
   "nbconvert_exporter": "python",
   "pygments_lexer": "ipython3",
   "version": "3.12.3"
  }
 },
 "nbformat": 4,
 "nbformat_minor": 2
}
