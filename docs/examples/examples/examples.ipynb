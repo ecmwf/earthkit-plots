{
 "cells": [
  {
   "cell_type": "markdown",
   "id": "9b21855f-4e63-43bd-9949-3aac915521f3",
   "metadata": {},
   "source": [
    "## Examples"
   ]
  },
  {
   "cell_type": "markdown",
   "id": "a6961d6c-2335-4441-b823-cc16c2e78633",
   "metadata": {},
   "source": [
    "### Vector data\n",
    "\n",
    "This section introduces how to plot vector data, such as wind fields, using **earthkit-plots**. Vector data typically consists of *U* (zonal, east-west) and *V* (meridional, north-south) components, which are often visualised as arrows or flags."
   ]
  },
  {
   "cell_type": "markdown",
   "id": "563b8f9b-c0a0-41d6-8b64-83c44419545f",
   "metadata": {
    "nbsphinx-toctree": {
     "maxdepth": 2
    },
    "tags": [
     "nbsphinx-gallery"
    ]
   },
   "source": [
    "* [Basic quiver plots](vectors-basic-quiver.ipynb)\n",
    "* [Wind flags/barbs](vectors-basic-barbs.ipynb)\n",
    "* [Vectors subsampling](vectors-subsampling.ipynb)\n",
    "* [Vectors regridding](vectors-regridding.ipynb)\n",
    "* [More vector styling](vectors-styles.ipynb)"
   ]
  },
  {
   "cell_type": "markdown",
   "id": "98a2dd9e-a94b-4658-9f2a-d268156d1742",
   "metadata": {},
   "source": [
    "### Isolines\n",
    "\n",
    "This section demonstrates how to use **earthkit-plots** to visualise data as isolines, or contour lines of constant value. We will explore basic plotting with the `contour()` method, automatic styles, choosing contour levels, and customising styles for better presentation."
   ]
  },
  {
   "cell_type": "markdown",
   "id": "d8fb6a25-ef2e-460a-8d41-ab2c5c8e6b75",
   "metadata": {
    "tags": [
     "nbsphinx-gallery"
    ]
   },
   "source": [
    "* [Isolines with quickplot](isolines-quickplot.ipynb)\n",
    "* [Isolines with contour](isolines-contour.ipynb)\n",
    "* [Isolines - units, levels and colours](isolines-basics.ipynb)\n",
    "* [Isolines - more complex styles](isolines-styles.ipynb)"
   ]
  }
 ],
 "metadata": {
  "kernelspec": {
   "display_name": "DEVELOP",
   "language": "python",
   "name": "develop"
  },
  "language_info": {
   "codemirror_mode": {
    "name": "ipython",
    "version": 3
   },
   "file_extension": ".py",
   "mimetype": "text/x-python",
   "name": "python",
   "nbconvert_exporter": "python",
   "pygments_lexer": "ipython3",
   "version": "3.10.6"
  }
 },
 "nbformat": 4,
 "nbformat_minor": 5
}
