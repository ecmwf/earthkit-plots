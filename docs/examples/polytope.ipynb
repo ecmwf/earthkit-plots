{
 "cells": [
  {
   "cell_type": "code",
   "execution_count": 1,
   "id": "cf5a3929",
   "metadata": {},
   "outputs": [],
   "source": [
    "import os\n",
    "import ipywidgets as widgets\n",
    "from geopy.geocoders import Nominatim\n",
    "import plotly.graph_objects as go\n",
    "\n",
    "import earthkit.plots\n",
    "import earthkit.data\n",
    "import matplotlib.pyplot as plt"
   ]
  },
  {
   "cell_type": "code",
   "execution_count": 2,
   "id": "fff495c1",
   "metadata": {},
   "outputs": [],
   "source": [
    "os.environ['POLYTOPE_ADDRESS'] = 'polytope-test.ecmwf.int'\n",
    "geolocator = Nominatim(user_agent=\"https://nominatim.openstreetmap.org\")"
   ]
  },
  {
   "cell_type": "code",
   "execution_count": 3,
   "id": "52feac29",
   "metadata": {},
   "outputs": [],
   "source": [
    "def get_data(location):\n",
    "    location = geolocator.geocode(location)\n",
    "    request = {\n",
    "        \"class\": \"od\",\n",
    "        \"stream\": \"enfo\",\n",
    "        \"type\": \"pf\",\n",
    "        \"levtype\": \"sfc\",\n",
    "        \"date\": \"20240125\",\n",
    "        \"time\": \"0000\",\n",
    "        \"expver\": \"0001\",\n",
    "        \"domain\": \"g\",\n",
    "        \"param\": \"49/164/167\", # 228/167/164/123\n",
    "        \"number\": \"1/to/50\",\n",
    "        \"feature\" : {\n",
    "            \"type\" : \"timeseries\",\n",
    "            \"points\": [[location.latitude, location.longitude]],\n",
    "            \"start\": 0,\n",
    "            \"end\" : 120,\n",
    "        },\n",
    "    }\n",
    "\n",
    "    return earthkit.data.from_source(\"polytope\", \"ecmwf-mars-beta\", request)"
   ]
  },
  {
   "cell_type": "code",
   "execution_count": 4,
   "id": "32e5189e",
   "metadata": {},
   "outputs": [],
   "source": [
    "LOCATIONS = [\n",
    "    \"Reading, UK\",\n",
    "    \"Bonn, Germany\",\n",
    "    \"Bologna, Italy\",\n",
    "    \"Baltimore, MD, USA\",\n",
    "]\n",
    "\n",
    "TIME_FREQUENCY = \"6H\"\n",
    "\n",
    "a = widgets.Dropdown(\n",
    "    options=LOCATIONS,\n",
    "    description=\"Location\",\n",
    ")\n",
    "\n",
    "def f(location):\n",
    "    data = get_data(location=location)\n",
    "    chart = earthkit.plots.Chart()\n",
    "    chart.box(data, time_frequency=TIME_FREQUENCY)\n",
    "    chart.line(data, time_frequency=TIME_FREQUENCY, aggregation=\"mean\", line_color=\"purple\")\n",
    "    chart.show()\n",
    "\n",
    "ui = widgets.HBox([a])\n",
    "out = widgets.interactive_output(f, {'location': a})\n",
    "display(ui, out)\n",
    "a.value = \"Baltimore, MD, USA\""
   ]
  },
  {
   "cell_type": "code",
   "execution_count": null,
   "id": "b0ffdcb0",
   "metadata": {},
   "outputs": [],
   "source": []
  }
 ],
 "metadata": {
  "kernelspec": {
   "display_name": "DEVELOP",
   "language": "python",
   "name": "develop"
  },
  "language_info": {
   "codemirror_mode": {
    "name": "ipython",
    "version": 3
   },
   "file_extension": ".py",
   "mimetype": "text/x-python",
   "name": "python",
   "nbconvert_exporter": "python",
   "pygments_lexer": "ipython3",
   "version": "3.10.6"
  }
 },
 "nbformat": 4,
 "nbformat_minor": 5
}
