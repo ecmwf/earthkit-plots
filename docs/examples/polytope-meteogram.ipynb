{
 "cells": [
  {
   "cell_type": "code",
   "execution_count": 3,
   "id": "b1ab4e7f",
   "metadata": {},
   "outputs": [],
   "source": [
    "import os\n",
    "import ipywidgets as widgets\n",
    "from geopy.geocoders import Nominatim\n",
    "\n",
    "import earthkit.plots\n",
    "import earthkit.data"
   ]
  },
  {
   "cell_type": "code",
   "execution_count": 5,
   "id": "7945c289",
   "metadata": {},
   "outputs": [],
   "source": [
    "os.environ['POLYTOPE_ADDRESS'] = 'polytope-test.ecmwf.int'\n",
    "geolocator = Nominatim(user_agent=\"https://nominatim.openstreetmap.org\")"
   ]
  },
  {
   "cell_type": "code",
   "execution_count": 8,
   "id": "b03af460",
   "metadata": {},
   "outputs": [],
   "source": [
    "def get_data(location):\n",
    "    location = geolocator.geocode(location)\n",
    "    request = {\n",
    "        \"class\": \"od\",\n",
    "        \"stream\": \"enfo\",\n",
    "        \"type\": \"pf\",\n",
    "        \"levtype\": \"sfc\",\n",
    "        \"date\": \"20240126\",\n",
    "        \"time\": \"0000\",\n",
    "        \"expver\": \"0001\",\n",
    "        \"domain\": \"g\",\n",
    "        \"param\": \"49/164/167\", # 228/167/164/123\n",
    "        \"number\": \"1/to/50\",\n",
    "        \"feature\" : {\n",
    "            \"type\" : \"timeseries\",\n",
    "            \"points\": [[location.latitude, location.longitude]],\n",
    "            \"start\": 0,\n",
    "            \"end\" : 48,\n",
    "        },\n",
    "    }\n",
    "\n",
    "    return earthkit.data.from_source(\"polytope\", \"ecmwf-mars-beta\", request)"
   ]
  },
  {
   "cell_type": "code",
   "execution_count": 9,
   "id": "807a9390",
   "metadata": {},
   "outputs": [
    {
     "data": {
      "application/vnd.jupyter.widget-view+json": {
       "model_id": "d916808e53104f2fb8b8b9b54c97c9bd",
       "version_major": 2,
       "version_minor": 0
      },
      "text/plain": [
       "HBox(children=(Dropdown(description='Location', options=('Reading, UK', 'Bonn, Germany', 'Bologna, Italy', 'Ba…"
      ]
     },
     "metadata": {},
     "output_type": "display_data"
    },
    {
     "data": {
      "application/vnd.jupyter.widget-view+json": {
       "model_id": "1c1f97e2947c42ba82ecb8a6cf7102c2",
       "version_major": 2,
       "version_minor": 0
      },
      "text/plain": [
       "Output()"
      ]
     },
     "metadata": {},
     "output_type": "display_data"
    }
   ],
   "source": [
    "LOCATIONS = [\n",
    "    \"Reading, UK\",\n",
    "    \"Bonn, Germany\",\n",
    "    \"Bologna, Italy\",\n",
    "    \"Baltimore, MD, USA\",\n",
    "]\n",
    "\n",
    "TIME_FREQUENCY = \"6H\"\n",
    "\n",
    "a = widgets.Dropdown(\n",
    "    options=LOCATIONS,\n",
    "    description=\"Location\",\n",
    ")\n",
    "\n",
    "def f(location):\n",
    "    data = get_data(location=location)\n",
    "    chart = earthkit.plots.Chart()\n",
    "    chart.box(data)\n",
    "    chart.line(data, aggregation=\"mean\", line_color=\"purple\")\n",
    "    chart.title(f\"ECMWF Ensemble Meteogram for {location}\")\n",
    "    chart.show()\n",
    "\n",
    "ui = widgets.HBox([a])\n",
    "out = widgets.interactive_output(f, {'location': a})\n",
    "display(ui, out)\n",
    "a.value = \"Baltimore, MD, USA\""
   ]
  },
  {
   "cell_type": "code",
   "execution_count": null,
   "id": "b962e472",
   "metadata": {},
   "outputs": [],
   "source": []
  }
 ],
 "metadata": {
  "kernelspec": {
   "display_name": "DEVELOP",
   "language": "python",
   "name": "develop"
  },
  "language_info": {
   "codemirror_mode": {
    "name": "ipython",
    "version": 3
   },
   "file_extension": ".py",
   "mimetype": "text/x-python",
   "name": "python",
   "nbconvert_exporter": "python",
   "pygments_lexer": "ipython3",
   "version": "3.10.6"
  }
 },
 "nbformat": 4,
 "nbformat_minor": 5
}
