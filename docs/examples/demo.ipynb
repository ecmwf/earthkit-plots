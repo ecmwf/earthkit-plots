{
 "cells": [
  {
   "cell_type": "code",
   "execution_count": 1,
   "id": "02006afe",
   "metadata": {},
   "outputs": [],
   "source": [
    "import os\n",
    "import ipywidgets as widgets\n",
    "from geopy.geocoders import Nominatim\n",
    "import plotly.graph_objects as go\n",
    "\n",
    "import earthkit.plots\n",
    "import earthkit.data\n",
    "import matplotlib.pyplot as plt"
   ]
  },
  {
   "cell_type": "code",
   "execution_count": 2,
   "id": "63da6d46",
   "metadata": {},
   "outputs": [],
   "source": [
    "os.environ['POLYTOPE_ADDRESS'] = 'polytope-test.ecmwf.int'\n",
    "geolocator = Nominatim(user_agent=\"https://nominatim.openstreetmap.org\")"
   ]
  },
  {
   "cell_type": "code",
   "execution_count": 3,
   "id": "85a00a7e",
   "metadata": {},
   "outputs": [],
   "source": [
    "LOCATIONS = [\n",
    "    \"Baltimore, MD, USA\",\n",
    "    \"Reading, UK\",\n",
    "    \"Bonn, Germany\",\n",
    "    \"Bologna, Italy\",\n",
    "]"
   ]
  },
  {
   "cell_type": "code",
   "execution_count": 4,
   "id": "d8da8fb5",
   "metadata": {},
   "outputs": [],
   "source": [
    "def get_data(location):\n",
    "    location = geolocator.geocode(location)\n",
    "    request = {\n",
    "        \"class\": \"od\",\n",
    "        \"stream\": \"enfo\",\n",
    "        \"type\": \"pf\",\n",
    "        \"levtype\": \"sfc\",\n",
    "        \"date\": \"20240125\",\n",
    "        \"time\": \"0000\",\n",
    "        \"expver\": \"0001\",\n",
    "        \"domain\": \"g\",\n",
    "        \"param\": \"49/164/167\", # 228/167/164/123\n",
    "        \"number\": \"1/to/50\",\n",
    "        \"feature\" : {\n",
    "            \"type\" : \"timeseries\",\n",
    "            \"points\": [[location.latitude, location.longitude]],\n",
    "            \"start\": 0,\n",
    "            \"end\" : 10,\n",
    "        },\n",
    "    }\n",
    "\n",
    "    return earthkit.data.from_source(\"polytope\", \"ecmwf-mars-beta\", request)"
   ]
  },
  {
   "cell_type": "code",
   "execution_count": 6,
   "id": "4deebda1",
   "metadata": {},
   "outputs": [
    {
     "data": {
      "application/vnd.jupyter.widget-view+json": {
       "model_id": "9be20bb5db2f42b89bfb1072bbc35e64",
       "version_major": 2,
       "version_minor": 0
      },
      "text/plain": [
       "HBox(children=(Dropdown(description='Location', options=('Baltimore, MD, USA', 'Reading, UK', 'Bonn, Germany',…"
      ]
     },
     "metadata": {},
     "output_type": "display_data"
    },
    {
     "data": {
      "application/vnd.jupyter.widget-view+json": {
       "model_id": "a66836aec2e9480c9cd858ca474eb40d",
       "version_major": 2,
       "version_minor": 0
      },
      "text/plain": [
       "Output()"
      ]
     },
     "metadata": {},
     "output_type": "display_data"
    }
   ],
   "source": [
    "a = widgets.Dropdown(\n",
    "    options=LOCATIONS,\n",
    "#     value=LOCATIONS[0],\n",
    "    description=\"Location\",\n",
    ")\n",
    "\n",
    "def f(location):\n",
    "    fig = go.Figure()\n",
    "    fig.add_trace(go.Scatter(x=[1,2,3], y=[1,2,3],\n",
    "                    mode='lines',\n",
    "                    name='Shear'))\n",
    "    fig.show()\n",
    "\n",
    "ui = widgets.HBox([a])\n",
    "out = widgets.interactive_output(f, {'location': a})\n",
    "display(ui, out)\n",
    "a.value = \"Baltimore, MD, USA\""
   ]
  },
  {
   "cell_type": "code",
   "execution_count": 5,
   "id": "84ef1069",
   "metadata": {},
   "outputs": [],
   "source": [
    "# w = widgets.Dropdown(\n",
    "#     options=LOCATIONS,\n",
    "#     value=LOCATIONS[0],\n",
    "#     description=\"Location\",\n",
    "# )\n",
    "\n",
    "# def get_meteogram(location):\n",
    "#     location = geolocator.geocode(location)\n",
    "#     request = {\n",
    "#         \"class\": \"od\",\n",
    "#         \"stream\": \"enfo\",\n",
    "#         \"type\": \"pf\",\n",
    "#         \"levtype\": \"sfc\",\n",
    "#         \"date\": \"20240125\",\n",
    "#         \"time\": \"0000\",\n",
    "#         \"expver\": \"0001\",\n",
    "#         \"domain\": \"g\",\n",
    "#         \"param\": \"49/164/167\", # 228/167/164/123\n",
    "#         \"number\": \"1/to/50\",\n",
    "#         \"feature\" : {\n",
    "#             \"type\" : \"timeseries\",\n",
    "#             \"points\": [[location.latitude, location.longitude]],\n",
    "#             \"start\": 0,\n",
    "#             \"end\" : 10,\n",
    "#         },\n",
    "#     }\n",
    "    \n",
    "#     data = earthkit.data.from_source(\"polytope\", \"ecmwf-mars-beta\", request)\n",
    "# #     TIME_FREQUENCY = \"1H\"\n",
    "\n",
    "# #     chart = earthkit.plots.Chart()\n",
    "# #     chart.box(data, time_frequency=TIME_FREQUENCY)\n",
    "# #     chart.line(data, time_frequency=TIME_FREQUENCY, aggregation=\"mean\", line_color=\"purple\")\n",
    "# #     chart.fig.show()\n",
    "\n",
    "#     fig = go.Figure()\n",
    "#     fig.add_trace(go.Scatter(x=[1,2,3], y=[1,2,3],\n",
    "#                     mode='lines',\n",
    "#                     name='Shear'))\n",
    "#     fig.show()\n",
    "\n",
    "# ui = widgets.HBox([w])\n",
    "# out = widgets.interactive_output(get_meteogram, {\"location\": w})\n",
    "# display(ui, out)"
   ]
  },
  {
   "cell_type": "code",
   "execution_count": 3,
   "id": "8d2f6b0c",
   "metadata": {
    "scrolled": false
   },
   "outputs": [
    {
     "data": {
      "application/vnd.jupyter.widget-view+json": {
       "model_id": "4ed86d082f964ba1aa2b746f0c3034d4",
       "version_major": 2,
       "version_minor": 0
      },
      "text/plain": [
       "HBox(children=(Dropdown(description='Location', options=('Baltimore, MD, USA', 'Reading, UK', 'Bonn, Germany',…"
      ]
     },
     "metadata": {},
     "output_type": "display_data"
    },
    {
     "data": {
      "application/vnd.jupyter.widget-view+json": {
       "model_id": "aafe9b9e2592427892af7a3a5244b4a1",
       "version_major": 2,
       "version_minor": 0
      },
      "text/plain": [
       "Output()"
      ]
     },
     "metadata": {},
     "output_type": "display_data"
    }
   ],
   "source": [
    "a = widgets.Dropdown(\n",
    "    options=LOCATIONS,\n",
    "    value=LOCATIONS[0],\n",
    "    description=\"Location\",\n",
    "    disabled=False,\n",
    ")\n",
    "\n",
    "def f(location):\n",
    "    print(location)\n",
    "#     data = get_data(location=location)\n",
    "    fig = go.Figure()\n",
    "    fig.add_trace(go.Scatter(x=[a,b,c], y=[a,b,c],\n",
    "                    mode='lines',\n",
    "                    name='Shear'))\n",
    "    fig.show()\n",
    "#     chart = earthkit.plots.Chart()\n",
    "#     chart.box(data)\n",
    "#     chart.line(data, aggregation=\"mean\", line_color=\"purple\")\n",
    "#     chart.show()\n",
    "\n",
    "ui = widgets.HBox([a])\n",
    "out = widgets.interactive_output(f, {'location': a})\n",
    "display(ui, out)"
   ]
  },
  {
   "cell_type": "code",
   "execution_count": 4,
   "id": "74abeb7d",
   "metadata": {},
   "outputs": [
    {
     "data": {
      "application/vnd.jupyter.widget-view+json": {
       "model_id": "dd332d71a61d4333881da630595704d9",
       "version_major": 2,
       "version_minor": 0
      },
      "text/plain": [
       "HBox(children=(IntSlider(value=10), IntSlider(value=4), IntSlider(value=4)))"
      ]
     },
     "metadata": {},
     "output_type": "display_data"
    },
    {
     "data": {
      "application/vnd.jupyter.widget-view+json": {
       "model_id": "98e456f006654a6db0e290d015106073",
       "version_major": 2,
       "version_minor": 0
      },
      "text/plain": [
       "Output()"
      ]
     },
     "metadata": {},
     "output_type": "display_data"
    }
   ],
   "source": [
    "import plotly.graph_objects as go\n",
    "import ipywidgets as widgets\n",
    "a = widgets.IntSlider(value=10)\n",
    "b = widgets.IntSlider(value=4)\n",
    "c = widgets.IntSlider(value=4)\n",
    "\n",
    "def f(a, b, c):\n",
    "    fig = go.Figure()\n",
    "    fig.add_trace(go.Scatter(x=[a,b,c], y=[a,b,c],\n",
    "                    mode='lines',\n",
    "                    name='Shear'))\n",
    "    fig.show()\n",
    "\n",
    "ui = widgets.HBox([a, b, c])\n",
    "out = widgets.interactive_output(f, {'a': a, 'b': b, 'c': c})\n",
    "display(ui, out)\n",
    "a.value=5\n"
   ]
  },
  {
   "cell_type": "code",
   "execution_count": null,
   "id": "71d0508f",
   "metadata": {},
   "outputs": [],
   "source": []
  }
 ],
 "metadata": {
  "kernelspec": {
   "display_name": "DEVELOP",
   "language": "python",
   "name": "develop"
  },
  "language_info": {
   "codemirror_mode": {
    "name": "ipython",
    "version": 3
   },
   "file_extension": ".py",
   "mimetype": "text/x-python",
   "name": "python",
   "nbconvert_exporter": "python",
   "pygments_lexer": "ipython3",
   "version": "3.10.6"
  }
 },
 "nbformat": 4,
 "nbformat_minor": 5
}
