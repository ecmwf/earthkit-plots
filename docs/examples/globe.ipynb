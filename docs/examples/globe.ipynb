{
 "cells": [
  {
   "cell_type": "code",
   "execution_count": 1,
   "id": "ae8b0dff-220c-44df-acbc-1fbd7d1ad5fd",
   "metadata": {},
   "outputs": [],
   "source": [
    "import earthkit.data\n",
    "import earthkit.plots"
   ]
  },
  {
   "cell_type": "code",
   "execution_count": 2,
   "id": "bf3a415f-b5f3-4260-afcf-51378432c375",
   "metadata": {},
   "outputs": [],
   "source": [
    "STYLE = earthkit.plots.styles.Style(\n",
    "    units=\"celsius\",\n",
    "    levels=range(-40, 41, 4),\n",
    "    extend=\"both\",\n",
    "    colors=\"turbo\",\n",
    ")"
   ]
  },
  {
   "cell_type": "code",
   "execution_count": 3,
   "id": "d0aff5a6-ce52-4421-8dcc-52ecae1563d9",
   "metadata": {},
   "outputs": [],
   "source": [
    "data = earthkit.data.from_source(\n",
    "    'cds',\n",
    "    'reanalysis-era5-single-levels',\n",
    "    {\n",
    "        'product_type': 'reanalysis',\n",
    "        'variable': '2m_temperature',\n",
    "        'year': '2023',\n",
    "        'month': '07',\n",
    "        'day': '3',\n",
    "        'time': '12:00',\n",
    "        'format': 'grib',\n",
    "    },\n",
    ")"
   ]
  },
  {
   "cell_type": "code",
   "execution_count": 4,
   "id": "f25a2d8d-e20c-4458-9caa-775055355777",
   "metadata": {},
   "outputs": [
    {
     "data": {
      "text/html": [
       "\n",
       "        <iframe\n",
       "            width=\"500\"\n",
       "            height=\"500\"\n",
       "            src=\"6c9bdb68-d259-4892-be5e-a899368fc091.html\"\n",
       "            frameborder=\"0\"\n",
       "            allowfullscreen\n",
       "            \n",
       "        ></iframe>\n",
       "        "
      ],
      "text/plain": [
       "<IPython.lib.display.IFrame at 0x15320a1a0>"
      ]
     },
     "execution_count": 4,
     "metadata": {},
     "output_type": "execute_result"
    }
   ],
   "source": [
    "earthkit.plots.globe(data, style=STYLE)"
   ]
  }
 ],
 "metadata": {
  "kernelspec": {
   "display_name": "DEVELOP",
   "language": "python",
   "name": "develop"
  },
  "language_info": {
   "codemirror_mode": {
    "name": "ipython",
    "version": 3
   },
   "file_extension": ".py",
   "mimetype": "text/x-python",
   "name": "python",
   "nbconvert_exporter": "python",
   "pygments_lexer": "ipython3",
   "version": "3.10.6"
  }
 },
 "nbformat": 4,
 "nbformat_minor": 5
}
