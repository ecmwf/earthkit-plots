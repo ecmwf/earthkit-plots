{
 "cells": [
  {
   "cell_type": "code",
   "execution_count": 1,
   "id": "caa3f98a",
   "metadata": {},
   "outputs": [],
   "source": [
    "import earthkit.plots\n",
    "import earthkit.data"
   ]
  },
  {
   "cell_type": "code",
   "execution_count": 2,
   "id": "f6082e09",
   "metadata": {},
   "outputs": [],
   "source": [
    "data = earthkit.data.from_source(\"file\", \"perterbed.covjson\")"
   ]
  },
  {
   "cell_type": "code",
   "execution_count": 4,
   "id": "5cc59843",
   "metadata": {},
   "outputs": [],
   "source": [
    "order = [\n",
    "    \"Temperature\",\n",
    "    \"Total Precipitation\",\n",
    "    \"10 metre U wind component\",\n",
    "    \"10 metre V wind component\",\n",
    "]\n",
    "\n",
    "chart = earthkit.plots.Chart()\n",
    "chart.box(\n",
    "    data,\n",
    "    units={\"Temperature\": \"celsius\", \"Total Precipitation\": \"mm\"},\n",
    "    deaccumulate=\"Total Precipitation\",\n",
    "    order=order,\n",
    ")\n",
    "# chart.show()\n",
    "chart.save(\"./covjson-meteogram.png\")"
   ]
  },
  {
   "cell_type": "markdown",
   "id": "5cdbdea0",
   "metadata": {},
   "source": [
    "![meteogram](./covjson-meteogram.png)"
   ]
  }
 ],
 "metadata": {
  "kernelspec": {
   "display_name": "DEVELOP",
   "language": "python",
   "name": "develop"
  },
  "language_info": {
   "codemirror_mode": {
    "name": "ipython",
    "version": 3
   },
   "file_extension": ".py",
   "mimetype": "text/x-python",
   "name": "python",
   "nbconvert_exporter": "python",
   "pygments_lexer": "ipython3",
   "version": "3.10.6"
  }
 },
 "nbformat": 4,
 "nbformat_minor": 5
}
