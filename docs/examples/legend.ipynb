{
 "cells": [
  {
   "cell_type": "code",
   "execution_count": 1,
   "id": "065d6875",
   "metadata": {},
   "outputs": [],
   "source": [
    "import earthkit.maps"
   ]
  },
  {
   "cell_type": "code",
   "execution_count": 3,
   "id": "5d775100",
   "metadata": {},
   "outputs": [],
   "source": [
    "style = earthkit.maps.styles.Style(\n",
    "    levels=range(-40, 31, 5),\n",
    "    units=\"celsius\",\n",
    ")"
   ]
  },
  {
   "cell_type": "code",
   "execution_count": 8,
   "id": "75f821f1",
   "metadata": {},
   "outputs": [
    {
     "name": "stderr",
     "output_type": "stream",
     "text": [
      "Cannot find a wrapper for class: builtins.list, returning unwrapped object\n"
     ]
    }
   ],
   "source": [
    "style.save_legend_graphic(label=\"temperature ({units})\")"
   ]
  },
  {
   "cell_type": "code",
   "execution_count": null,
   "id": "78254023",
   "metadata": {},
   "outputs": [],
   "source": []
  }
 ],
 "metadata": {
  "kernelspec": {
   "display_name": "DEVELOP",
   "language": "python",
   "name": "develop"
  },
  "language_info": {
   "codemirror_mode": {
    "name": "ipython",
    "version": 3
   },
   "file_extension": ".py",
   "mimetype": "text/x-python",
   "name": "python",
   "nbconvert_exporter": "python",
   "pygments_lexer": "ipython3",
   "version": "3.10.6"
  }
 },
 "nbformat": 4,
 "nbformat_minor": 5
}
